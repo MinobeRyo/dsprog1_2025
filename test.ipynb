{
 "cells": [
  {
   "cell_type": "code",
   "execution_count": null,
   "id": "0d82161f",
   "metadata": {},
   "outputs": [],
   "source": [
    "import requests\n",
    "from bs4 import BeautifulSoup"
   ]
  },
  {
   "cell_type": "code",
   "execution_count": 17,
   "id": "47b2923b",
   "metadata": {},
   "outputs": [],
   "source": [
    "#アクセスしたいサイトのURLを指定\n",
    "url= 'https://www.musashino-u.ac.jp/'\n",
    "\n",
    "#webページにHTTPリクエストを送信\n",
    "#レスポンスを変数に格納しておく\n",
    "res = requests.get(url)\n",
    "res.encoding = res.apparent_encoding  # レスポンスのエンコーディングを設定"
   ]
  },
  {
   "cell_type": "code",
   "execution_count": null,
   "id": "d0ac4cb2",
   "metadata": {},
   "outputs": [],
   "source": [
    "print(f\"レスポンス：{res}\")  # レスポンスオブジェクトを表示\n",
    "print(f\"レスポンスの型：{type(res)}\")  # レスポンスオブジェクトの型を表示\n",
    "print(f\"ステータスコード：{res.status_code}\")  # ステータスコードを表示\n",
    "print(f\"ステータスコード：{res.status_code }\")  # ステータスコードを表示\n",
    "print(f\"ステータスメッセージ：{res.reason}\")  # ステータスメッセージを表示\n",
    "\n",
    "print(f\"リクエスト：{res.request}\") # リクエストオブジェクトを表示\n",
    "print(f\"リクエストの型：{type(res.request)}\")  # リクエストオブジェクトの型を表示\n",
    "print(f\"リクエストヘッダー：{res.request.headers}\")  # リクエストヘッダーを表示\n",
    "print(f\"リクエストメソッド：{res.request.method}\")  # リクエストメソッドを表示\n",
    "print(f\"リクエストURL：{res.request.url}\")  # リクエストURLを表示\n"
   ]
  },
  {
   "cell_type": "code",
   "execution_count": null,
   "id": "69131084",
   "metadata": {},
   "outputs": [],
   "source": [
    "#レスポンス\n",
    "print(f\"レスポンスヘッダー：{res.headers}\")  # レスポンスヘッダーを表示\n",
    "print(f\"レスポンスボディ：{res.text}\")  # レスポンスボディを表示\n"
   ]
  },
  {
   "cell_type": "code",
   "execution_count": 12,
   "id": "c540bf94",
   "metadata": {},
   "outputs": [],
   "source": [
    "headers = {\n",
    "    'User-Agent': 'Mozilla/5.0 (Windows NT 10.0; Win64; x64) AppleWebKit/537.36 (KHTML, like Gecko) Chrome/58.0.3029.110 Safari/537.3'\n",
    "}"
   ]
  },
  {
   "cell_type": "code",
   "execution_count": null,
   "id": "694d6746",
   "metadata": {},
   "outputs": [],
   "source": [
    "#アクセスしたいサイトのURLを指定\n",
    "url= 'https://ja.wikipedia.org/wiki/武蔵野大学'\n",
    "\n",
    "res = requests.get(url, headers=headers)\n",
    "print(f\"ステータスコード：{res.status_code }\")  # ステータスコードを表示\n",
    "\n",
    "print(f\"レスポンスボディ：{res.text}\")  # レスポンスボディを表示"
   ]
  },
  {
   "cell_type": "code",
   "execution_count": null,
   "id": "6a3ae277",
   "metadata": {},
   "outputs": [],
   "source": [
    "#url= 'https://www.musashino-u.ac.jp/search.html?query=データサイエンス'\n",
    "\n",
    "url= \"https://www.musashino-u.ac.jp/search.html\"\n",
    "params = {\n",
    "    'query': 'データサイエンス'\n",
    "}\n",
    "res = requests.get(url, params=params, headers=headers)\n",
    "res.encoding = res.apparent_encoding  # レスポンスのエンコーディングを設定\n",
    "print(f\"ステータスコード：{res.status_code }\")  # ステータ\n",
    "print(f\"レスポンスボディ：{res.text}\")  # レスポンスボディを表示\n"
   ]
  },
  {
   "cell_type": "code",
   "execution_count": 25,
   "id": "dcd54a31",
   "metadata": {},
   "outputs": [
    {
     "name": "stdout",
     "output_type": "stream",
     "text": [
      "ステータスコード：200\n"
     ]
    }
   ],
   "source": [
    "url= 'https://www.musashino-u.ac.jp/'\n",
    "res = requests.get(url, headers=headers)\n",
    "res.encoding = res.apparent_encoding  # レスポンスのエンコーディングを設定\n",
    "print(f\"ステータスコード：{res.status_code }\")  # ステータスコードを表示"
   ]
  },
  {
   "cell_type": "code",
   "execution_count": 26,
   "id": "ce98c28f",
   "metadata": {},
   "outputs": [
    {
     "name": "stdout",
     "output_type": "stream",
     "text": [
      "soupの型：<class 'bs4.BeautifulSoup'>\n"
     ]
    }
   ],
   "source": [
    "#HTMLのソースコードの解析\n",
    "soup = BeautifulSoup(res.text, 'html.parser')\n",
    "print(f\"soupの型：{type(soup)}\")  # soupオブジェクトの型を表示"
   ]
  },
  {
   "cell_type": "code",
   "execution_count": null,
   "id": "93161be9",
   "metadata": {},
   "outputs": [],
   "source": [
    "#ソースコード全体から<a>タグを抽出\n",
    "soup_a =soup.a\n",
    "print(f\"<a>タグ：{soup_a}\")  # <a>タグオブジェクトを表示\n",
    "print(f\"<a>タグの型：{type(soup_a)}\")  # <a>タグオブジェクトの型を表示\n",
    "\n",
    "#ソースコード全体から<p>タグを抽出\n",
    "soup_p =soup.p\n",
    "print(f\"<p>タグ：{soup_p}\") \n",
    "print(f\"<p>タグの型：{type(soup_p)}\")  # <p>タグオブジェクトの型を表示\n",
    "\n",
    "#ソースコード全体から<div>タグを抽出\n",
    "soup_div =soup.div\n",
    "print(f\"<div>タグ：{soup_div}\") \n",
    "print(f\"<div>タグの型：{type(soup_div)}\")  \n",
    "\n",
    "\n",
    "soup_div_div =soup_div.div\n",
    "print(f\"<div>タグの中の<div>タグ：{soup_div_div}\")\n",
    "print(f\"<div>タグの中の<div>タグの型：{type(soup_div_div)}\")"
   ]
  },
  {
   "cell_type": "code",
   "execution_count": 32,
   "id": "af7a243d",
   "metadata": {},
   "outputs": [
    {
     "name": "stdout",
     "output_type": "stream",
     "text": [
      "<a>タグのテキスト：\n",
      "\t\t\t\t\tこのページの本文へ移動\n",
      "\t\t\t\t\n",
      "<div>タグの中の<div>タグのテキスト：None\n"
     ]
    }
   ],
   "source": [
    "#tabオブジェクト.stringでタグ内のテキストを取得できる\n",
    "print(f\"<a>タグのテキスト：{soup_a.string}\")\n",
    "\n",
    "#コンテンツのないタグの場合、.stringはNoneを返す\n",
    "print(f\"<div>タグの中の<div>タグのテキスト：{soup_div_div.string}\")\n"
   ]
  }
 ],
 "metadata": {
  "kernelspec": {
   "display_name": ".venv (3.12.12)",
   "language": "python",
   "name": "python3"
  },
  "language_info": {
   "codemirror_mode": {
    "name": "ipython",
    "version": 3
   },
   "file_extension": ".py",
   "mimetype": "text/x-python",
   "name": "python",
   "nbconvert_exporter": "python",
   "pygments_lexer": "ipython3",
   "version": "3.12.12"
  }
 },
 "nbformat": 4,
 "nbformat_minor": 5
}
